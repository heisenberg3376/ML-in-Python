{
 "cells": [
  {
   "cell_type": "code",
   "execution_count": null,
   "id": "144c79cf-cc36-49e8-94f8-d4c7d1dc5b56",
   "metadata": {},
   "outputs": [],
   "source": []
  },
  {
   "cell_type": "markdown",
   "id": "76db6a11-7990-43e0-b6f7-e9d6edb79538",
   "metadata": {
    "tags": []
   },
   "source": [
    "## Regression"
   ]
  },
  {
   "cell_type": "markdown",
   "id": "35c11e70-e19a-4ab6-a95b-5588e025a12a",
   "metadata": {
    "tags": []
   },
   "source": [
    "#### The goal is to take continuous data, find the equation that best fits the data, and be able forecast out a specific value. With simple linear regression, you are just simply doing this by creating a best fit line. A popular use with regression is to predict stock prices. This is done because we are considering the fluidity of price over time, and attempting to forecast the next fluid price in the future using a continuous dataset.\n",
    "####     Regression is a form of supervised machine learning, which is where the scientist teaches the machine by showing it features and then showing it what the correct answer is, over and over, to teach the machine. Once the machine is taught, the scientist will usually \"test\" the machine on some unseen data, where the scientist still knows what the correct answer is, but the machine doesn't. The machine's answers are compared to the known answers, and the machine's accuracy can be measured. If the accuracy is high enough, the scientist may consider actually employing the algorithm in the real world."
   ]
  },
  {
   "cell_type": "code",
   "execution_count": 28,
   "id": "7e3540eb-115c-4ff5-af9c-f27f7c6b10e2",
   "metadata": {
    "tags": []
   },
   "outputs": [
    {
     "data": {
      "image/png": "[encoded data removed]",
      "text/plain": [
       "<IPython.core.display.Image object>"
      ]
     },
     "execution_count": 28,
     "metadata": {},
     "output_type": "execute_result"
    }
   ],
   "source": [
    "from IPython import display\n",
    "display.Image(\"https://pythonprogramming.net/static/images/machine-learning/linear-regression-algorithm-tutorial-test.png\")"
   ]
  },
  {
   "cell_type": "markdown",
   "id": "3b7eb90c-6ce3-4093-b7d8-5b1f3881c253",
   "metadata": {},
   "source": [
    "#### From here, we can use the equation of that line to forecast out into the future, where the 'date' is the x-axis, what the price will be."
   ]
  },
  {
   "cell_type": "code",
   "execution_count": 2,
   "id": "0a86ac54-ef3d-4eea-b20c-25402b477d81",
   "metadata": {
    "tags": []
   },
   "outputs": [
    {
     "data": {
      "text/html": [
       "<div>\n",
       "<style scoped>\n",
       "    .dataframe tbody tr th:only-of-type {\n",
       "        vertical-align: middle;\n",
       "    }\n",
       "\n",
       "    .dataframe tbody tr th {\n",
       "        vertical-align: top;\n",
       "    }\n",
       "\n",
       "    .dataframe thead th {\n",
       "        text-align: right;\n",
       "    }\n",
       "</style>\n",
       "<table border=\"1\" class=\"dataframe\">\n",
       "  <thead>\n",
       "    <tr style=\"text-align: right;\">\n",
       "      <th></th>\n",
       "      <th>Open</th>\n",
       "      <th>High</th>\n",
       "      <th>Low</th>\n",
       "      <th>Close</th>\n",
       "      <th>Volume</th>\n",
       "      <th>Ex-Dividend</th>\n",
       "      <th>Split Ratio</th>\n",
       "      <th>Adj. Open</th>\n",
       "      <th>Adj. High</th>\n",
       "      <th>Adj. Low</th>\n",
       "      <th>Adj. Close</th>\n",
       "      <th>Adj. Volume</th>\n",
       "    </tr>\n",
       "    <tr>\n",
       "      <th>Date</th>\n",
       "      <th></th>\n",
       "      <th></th>\n",
       "      <th></th>\n",
       "      <th></th>\n",
       "      <th></th>\n",
       "      <th></th>\n",
       "      <th></th>\n",
       "      <th></th>\n",
       "      <th></th>\n",
       "      <th></th>\n",
       "      <th></th>\n",
       "      <th></th>\n",
       "    </tr>\n",
       "  </thead>\n",
       "  <tbody>\n",
       "    <tr>\n",
       "      <th>2004-08-19</th>\n",
       "      <td>100.01</td>\n",
       "      <td>104.06</td>\n",
       "      <td>95.96</td>\n",
       "      <td>100.335</td>\n",
       "      <td>44659000.0</td>\n",
       "      <td>0.0</td>\n",
       "      <td>1.0</td>\n",
       "      <td>50.159839</td>\n",
       "      <td>52.191109</td>\n",
       "      <td>48.128568</td>\n",
       "      <td>50.322842</td>\n",
       "      <td>44659000.0</td>\n",
       "    </tr>\n",
       "    <tr>\n",
       "      <th>2004-08-20</th>\n",
       "      <td>101.01</td>\n",
       "      <td>109.08</td>\n",
       "      <td>100.50</td>\n",
       "      <td>108.310</td>\n",
       "      <td>22834300.0</td>\n",
       "      <td>0.0</td>\n",
       "      <td>1.0</td>\n",
       "      <td>50.661387</td>\n",
       "      <td>54.708881</td>\n",
       "      <td>50.405597</td>\n",
       "      <td>54.322689</td>\n",
       "      <td>22834300.0</td>\n",
       "    </tr>\n",
       "    <tr>\n",
       "      <th>2004-08-23</th>\n",
       "      <td>110.76</td>\n",
       "      <td>113.48</td>\n",
       "      <td>109.05</td>\n",
       "      <td>109.400</td>\n",
       "      <td>18256100.0</td>\n",
       "      <td>0.0</td>\n",
       "      <td>1.0</td>\n",
       "      <td>55.551482</td>\n",
       "      <td>56.915693</td>\n",
       "      <td>54.693835</td>\n",
       "      <td>54.869377</td>\n",
       "      <td>18256100.0</td>\n",
       "    </tr>\n",
       "    <tr>\n",
       "      <th>2004-08-24</th>\n",
       "      <td>111.24</td>\n",
       "      <td>111.60</td>\n",
       "      <td>103.57</td>\n",
       "      <td>104.870</td>\n",
       "      <td>15247300.0</td>\n",
       "      <td>0.0</td>\n",
       "      <td>1.0</td>\n",
       "      <td>55.792225</td>\n",
       "      <td>55.972783</td>\n",
       "      <td>51.945350</td>\n",
       "      <td>52.597363</td>\n",
       "      <td>15247300.0</td>\n",
       "    </tr>\n",
       "    <tr>\n",
       "      <th>2004-08-25</th>\n",
       "      <td>104.76</td>\n",
       "      <td>108.00</td>\n",
       "      <td>103.88</td>\n",
       "      <td>106.000</td>\n",
       "      <td>9188600.0</td>\n",
       "      <td>0.0</td>\n",
       "      <td>1.0</td>\n",
       "      <td>52.542193</td>\n",
       "      <td>54.167209</td>\n",
       "      <td>52.100830</td>\n",
       "      <td>53.164113</td>\n",
       "      <td>9188600.0</td>\n",
       "    </tr>\n",
       "  </tbody>\n",
       "</table>\n",
       "</div>"
      ],
      "text/plain": [
       "              Open    High     Low    Close      Volume  Ex-Dividend  \\\n",
       "Date                                                                   \n",
       "2004-08-19  100.01  104.06   95.96  100.335  44659000.0          0.0   \n",
       "2004-08-20  101.01  109.08  100.50  108.310  22834300.0          0.0   \n",
       "2004-08-23  110.76  113.48  109.05  109.400  18256100.0          0.0   \n",
       "2004-08-24  111.24  111.60  103.57  104.870  15247300.0          0.0   \n",
       "2004-08-25  104.76  108.00  103.88  106.000   9188600.0          0.0   \n",
       "\n",
       "            Split Ratio  Adj. Open  Adj. High   Adj. Low  Adj. Close  \\\n",
       "Date                                                                   \n",
       "2004-08-19          1.0  50.159839  52.191109  48.128568   50.322842   \n",
       "2004-08-20          1.0  50.661387  54.708881  50.405597   54.322689   \n",
       "2004-08-23          1.0  55.551482  56.915693  54.693835   54.869377   \n",
       "2004-08-24          1.0  55.792225  55.972783  51.945350   52.597363   \n",
       "2004-08-25          1.0  52.542193  54.167209  52.100830   53.164113   \n",
       "\n",
       "            Adj. Volume  \n",
       "Date                     \n",
       "2004-08-19   44659000.0  \n",
       "2004-08-20   22834300.0  \n",
       "2004-08-23   18256100.0  \n",
       "2004-08-24   15247300.0  \n",
       "2004-08-25    9188600.0  "
      ]
     },
     "execution_count": 2,
     "metadata": {},
     "output_type": "execute_result"
    }
   ],
   "source": [
    "import pandas as pd\n",
    "import quandl\n",
    "import math\n",
    "import numpy as np\n",
    "from sklearn import preprocessing,svm\n",
    "from sklearn.linear_model import LinearRegression\n",
    "from sklearn import datasets\n",
    "\n",
    "df = quandl.get('WIKI/GOOGL', api_key='ef__EKqy-2c4nAJHVYpG') # ticker to get the google stock from quandl\n",
    "df.head()"
   ]
  },
  {
   "cell_type": "markdown",
   "id": "93d0ef73-6d9d-4565-b085-5855efea1ff2",
   "metadata": {},
   "source": [
    "####  We can most likely agree that having both the regular columns and adjusted columns is redundant. Adjusted columns are the most ideal ones. Regular columns here are prices on the day, but stocks have things called stock splits, where suddenly 1 share becomes something like 2 shares, thus the value of a share is halved, but the value of the company has not halved. Adjusted columns are adjusted for stock splits over time, which makes them more reliable for doing analysis."
   ]
  },
  {
   "cell_type": "markdown",
   "id": "b3fe8cf3-583f-40f8-801d-e273bad08ce6",
   "metadata": {},
   "source": [
    "#### We need meaningful and useful data for machine learning. So how do you know if you have meaningful data? \n",
    "####  1. Historical prices -> X \n",
    "####  2. Historical Patterns -> X\n",
    "####  3. relationship between price changes and volume over time, along with historical patterns -> ?\n",
    "#### Daily Volatility :- High - low %\n",
    "#### Daily % change :- Open - Closed %\n",
    "\n"
   ]
  },
  {
   "cell_type": "code",
   "execution_count": 3,
   "id": "8fb72e9b-9697-46da-98ac-b215623a5521",
   "metadata": {
    "tags": []
   },
   "outputs": [],
   "source": [
    "df = df[['Adj. Open','Adj. High','Adj. Low','Adj. Close','Adj. Volume']]\n",
    "df['HL_pct'] = (df['Adj. High'] - df['Adj. Low']) / df['Adj. Low'] * 100\n",
    "df['PCT_change'] = (df['Adj. Open'] - df['Adj. Close']) / df['Adj. Close'] * 100"
   ]
  },
  {
   "cell_type": "code",
   "execution_count": 4,
   "id": "57dffb9a-ad02-48d1-b04d-40d6cf68f549",
   "metadata": {
    "tags": []
   },
   "outputs": [
    {
     "data": {
      "text/html": [
       "<div>\n",
       "<style scoped>\n",
       "    .dataframe tbody tr th:only-of-type {\n",
       "        vertical-align: middle;\n",
       "    }\n",
       "\n",
       "    .dataframe tbody tr th {\n",
       "        vertical-align: top;\n",
       "    }\n",
       "\n",
       "    .dataframe thead th {\n",
       "        text-align: right;\n",
       "    }\n",
       "</style>\n",
       "<table border=\"1\" class=\"dataframe\">\n",
       "  <thead>\n",
       "    <tr style=\"text-align: right;\">\n",
       "      <th></th>\n",
       "      <th>Adj. Close</th>\n",
       "      <th>HL_pct</th>\n",
       "      <th>PCT_change</th>\n",
       "      <th>Adj. Volume</th>\n",
       "    </tr>\n",
       "    <tr>\n",
       "      <th>Date</th>\n",
       "      <th></th>\n",
       "      <th></th>\n",
       "      <th></th>\n",
       "      <th></th>\n",
       "    </tr>\n",
       "  </thead>\n",
       "  <tbody>\n",
       "    <tr>\n",
       "      <th>2004-08-19</th>\n",
       "      <td>50.322842</td>\n",
       "      <td>8.441017</td>\n",
       "      <td>-0.323915</td>\n",
       "      <td>44659000.0</td>\n",
       "    </tr>\n",
       "    <tr>\n",
       "      <th>2004-08-20</th>\n",
       "      <td>54.322689</td>\n",
       "      <td>8.537313</td>\n",
       "      <td>-6.739913</td>\n",
       "      <td>22834300.0</td>\n",
       "    </tr>\n",
       "    <tr>\n",
       "      <th>2004-08-23</th>\n",
       "      <td>54.869377</td>\n",
       "      <td>4.062357</td>\n",
       "      <td>1.243144</td>\n",
       "      <td>18256100.0</td>\n",
       "    </tr>\n",
       "    <tr>\n",
       "      <th>2004-08-24</th>\n",
       "      <td>52.597363</td>\n",
       "      <td>7.753210</td>\n",
       "      <td>6.074187</td>\n",
       "      <td>15247300.0</td>\n",
       "    </tr>\n",
       "    <tr>\n",
       "      <th>2004-08-25</th>\n",
       "      <td>53.164113</td>\n",
       "      <td>3.966115</td>\n",
       "      <td>-1.169811</td>\n",
       "      <td>9188600.0</td>\n",
       "    </tr>\n",
       "  </tbody>\n",
       "</table>\n",
       "</div>"
      ],
      "text/plain": [
       "            Adj. Close    HL_pct  PCT_change  Adj. Volume\n",
       "Date                                                     \n",
       "2004-08-19   50.322842  8.441017   -0.323915   44659000.0\n",
       "2004-08-20   54.322689  8.537313   -6.739913   22834300.0\n",
       "2004-08-23   54.869377  4.062357    1.243144   18256100.0\n",
       "2004-08-24   52.597363  7.753210    6.074187   15247300.0\n",
       "2004-08-25   53.164113  3.966115   -1.169811    9188600.0"
      ]
     },
     "execution_count": 4,
     "metadata": {},
     "output_type": "execute_result"
    }
   ],
   "source": [
    "df = df[['Adj. Close', 'HL_pct', 'PCT_change', 'Adj. Volume']]\n",
    "df.head()"
   ]
  },
  {
   "cell_type": "code",
   "execution_count": null,
   "id": "77acbc71-cce2-4f7d-9523-f8895b038abb",
   "metadata": {},
   "outputs": [],
   "source": []
  },
  {
   "cell_type": "markdown",
   "id": "a8608b6b-b6ba-4d20-ba13-e32acc141e39",
   "metadata": {},
   "source": [
    "## Features and Labels"
   ]
  },
  {
   "cell_type": "markdown",
   "id": "facfd30f-5835-4588-b6de-9ea43728012e",
   "metadata": {},
   "source": [
    "#### With supervised learning, you have features and labels. The features are the descriptive attributes, and the label is what you're attempting to predict or forecast. In our case, what are the features and what is the label? We're trying to predict the price, so is price the label? If so, what are the featuers? When it comes to forecasting out the price, our label, the thing we're hoping to predict, is actually the future price. As such, our features are actually: current price, high minus low percent, and the percent change volatility. The price that is the label shall be the price at some determined point the future.\n",
    "\n",
    "#### Here, we define the forecasting column, then we fill any NaN data with -99999. You have a few choice here regarding how to handle missing data. You can't just pass a NaN (Not a Number) datapoint to a machine learning classifier, you have to handle for it. One popular option is to replace missing data with -99,999. With many machine learning classifiers, this will just be recognized and treated as an outlier feature."
   ]
  },
  {
   "cell_type": "code",
   "execution_count": 77,
   "id": "c02ca463-7b7e-4570-9593-127f3462a4fa",
   "metadata": {
    "tags": []
   },
   "outputs": [],
   "source": [
    "forecast_col = 'Adj. Close'\n",
    "df.fillna(value=-99999, inplace=True)\n",
    "forecast_out = int(math.ceil(0.05 * len(df)))"
   ]
  },
  {
   "cell_type": "markdown",
   "id": "559ebd80-8b0f-4139-ae16-69d773d27e85",
   "metadata": {},
   "source": [
    "#### Finally, we define what we want to forecast out. In our case, we've decided the features are a bunch of the current values, and the label shall be the price, in the future, where the future is 1% of the entire length of the dataset out. We'll assume all current columns are our features, so we'll add a new column with a simple pandas operation:"
   ]
  },
  {
   "cell_type": "code",
   "execution_count": 78,
   "id": "334b6787-6e23-4488-bca4-4da401adc499",
   "metadata": {
    "tags": []
   },
   "outputs": [],
   "source": [
    "df['label'] = df[forecast_col].shift(-forecast_out)"
   ]
  },
  {
   "cell_type": "code",
   "execution_count": 30,
   "id": "615b01b1-f0ce-4c7b-9f61-2d8db4a1b8d1",
   "metadata": {
    "tags": []
   },
   "outputs": [],
   "source": [
    "# shift function example\n",
    "\n",
    "# ind = pd.date_range('01 / 01 / 2000', periods = 5)\n",
    "# df = pd.DataFrame({\"A\":[1, 2, 3, 4, 5],\n",
    "#                    \"B\":[10, 20, 30, 40, 50],\n",
    "#                    \"C\":[11, 22, 33, 44, 55],\n",
    "#                    \"D\":[12, 24, 51, 36, 2]},\n",
    "#                     index = ind)\n",
    "# df.shift(0),df.shift(2),df.shift(-2)\n",
    "\n",
    "\n"
   ]
  },
  {
   "cell_type": "code",
   "execution_count": 85,
   "id": "8e8a11af-07ab-4258-bd8d-4e730d372900",
   "metadata": {
    "tags": []
   },
   "outputs": [],
   "source": [
    "# df"
   ]
  },
  {
   "cell_type": "code",
   "execution_count": null,
   "id": "3d52e147-d8f3-4183-b74c-b5ba0a8b23cb",
   "metadata": {},
   "outputs": [],
   "source": []
  },
  {
   "cell_type": "markdown",
   "id": "64c7d868-ed4e-4281-9de4-3ab0635ca1a5",
   "metadata": {},
   "source": [
    "## Training and Testing"
   ]
  },
  {
   "cell_type": "code",
   "execution_count": 86,
   "id": "2485edb9-d934-4004-89e8-4fcdbfe5ce32",
   "metadata": {
    "tags": []
   },
   "outputs": [],
   "source": [
    "# We'll then drop any still NaN information from the dataframe:\n",
    "#df.dropna(inplace=True)"
   ]
  },
  {
   "cell_type": "markdown",
   "id": "8263aa9b-245e-47a3-9756-3e72fad3ae41",
   "metadata": {},
   "source": [
    "#### It is a typical standard with machine learning in code to define X (capital x), as the features, and y (lowercase y) as the label that corresponds to the features. As such, we can define our features and labels like so:\n",
    "\n",
    "#### as our entire dataframe EXCEPT for the label column, converted to a numpy array. We do this using the .drop method that can be applied to dataframes, which returns a new dataframe. Next, we define our y variable, which is our label, as simply the label column of the dataframe, converted to a numpy array."
   ]
  },
  {
   "cell_type": "code",
   "execution_count": 79,
   "id": "3db8659a-7441-4335-ac88-8d800fb67b8f",
   "metadata": {
    "tags": []
   },
   "outputs": [],
   "source": [
    "X = np.array(df.drop(['label'],axis=1))\n"
   ]
  },
  {
   "cell_type": "markdown",
   "id": "fbdf6650-4483-483b-8b95-0501392177ad",
   "metadata": {},
   "source": [
    "#### We could leave it at this, and move on to training and testing, but we're going to do some pre-processing. Generally, you want your features in machine learning to be in a range of -1 to 1. This may do nothing, but it usually speeds up processing and can also help with accuracy. Because this range is so popularly used, it is included in the preprocessing module of Scikit-Learn. To utilize this, you can apply preprocessing.scale to your X variable:"
   ]
  },
  {
   "cell_type": "code",
   "execution_count": 80,
   "id": "d9e774ea-66ec-4d78-92b3-bc6c9432d6ac",
   "metadata": {
    "tags": []
   },
   "outputs": [],
   "source": [
    "X = preprocessing.scale(X)\n",
    "X_lately = X[-forecast_out:]\n",
    "X = X[:-forecast_out]\n",
    "df.dropna(inplace=True)\n",
    "y = np.array(df['label'])"
   ]
  },
  {
   "cell_type": "markdown",
   "id": "139d8f1b-fb58-4857-a7b8-e0555bb29e65",
   "metadata": {},
   "source": [
    "#### Now comes the training and testing. The way this works is you take, for example, 75% of your data, and use this to train the machine learning classifier. Then you take the remaining 25% of your data, and test the classifier. Since this is your sample data, you should have the features and known labels. Thus, if you test on the last 25% of your data, you can get a sort of accuracy and reliability, often called the confidence score. There are many ways to do this, but, probably the best way is using the build in cross_validation provided, since this also shuffles your data for you."
   ]
  },
  {
   "cell_type": "code",
   "execution_count": 81,
   "id": "0c06079d-4d91-488e-ba41-eea6d684ae76",
   "metadata": {
    "tags": []
   },
   "outputs": [],
   "source": [
    "from sklearn.model_selection import train_test_split\n",
    "X_train, X_test, y_train, y_test = train_test_split(X, y, test_size=0.2)"
   ]
  },
  {
   "cell_type": "markdown",
   "id": "fa8dde7e-bfd5-4454-a929-28ac0530d9d3",
   "metadata": {},
   "source": [
    "### The return here is the training set of features, testing set of features, training set of labels, and testing set of labels. Now, we're ready to define our classifier. There are many classifiers in general available through Scikit-Learn, and even a few specifically for regression. We'll show a couple in this example, but for now, let's use Support Vector Regression from Scikit-Learn's svm package"
   ]
  },
  {
   "cell_type": "markdown",
   "id": "ebfa4f52-c30b-4c5c-ba17-a818d2fc2b09",
   "metadata": {},
   "source": [
    "#### And next we define a classifier with Linear Regression. And train the classifier with the train data. Now we calculate the cofidence(accuracy) of the classifier using .score method.\n",
    "#### Our X_lately variable contains the most recent features, which we're going to predict against."
   ]
  },
  {
   "cell_type": "code",
   "execution_count": 82,
   "id": "442bbeb5-9851-4b13-bca0-800ae78b20e3",
   "metadata": {
    "tags": []
   },
   "outputs": [
    {
     "name": "stdout",
     "output_type": "stream",
     "text": [
      "[1108.39713262 1110.71563    1115.41753473 1082.69812503 1078.48247588\n",
      " 1063.25983569 1071.45246484 1056.05179565 1058.15626832 1059.11821296\n",
      " 1050.86896726 1057.4917968  1057.34816777 1055.55644897 1051.08884866\n",
      " 1032.03929909 1040.15610781 1049.84767971 1048.79326853 1055.79095805\n",
      " 1036.37554184 1035.66057131 1029.53398029 1051.76287703 1054.03140774\n",
      " 1047.01464091 1040.00754226 1037.6674406  1046.65179884 1055.24931645\n",
      " 1068.14370796 1064.03758857 1052.14685386 1053.02231312 1062.04301094\n",
      " 1052.11857389 1054.34806418 1058.26288649 1062.76961273 1050.81730046\n",
      " 1045.45243351 1039.29035159 1047.56570726 1059.59981227 1059.15849018\n",
      " 1054.59563815 1044.17533052 1048.13036207 1073.24784756 1078.74638386\n",
      " 1088.5713196  1080.81814793 1086.66127801 1080.42503613 1101.29046237\n",
      " 1110.71710887 1108.77894827 1103.36808858 1124.0099009  1123.67686055\n",
      " 1126.09771558 1127.70800877 1129.75228728 1131.51852044 1119.26714166\n",
      " 1122.99074708 1100.15172247 1104.63619737 1107.92972382 1107.37661512\n",
      " 1153.8380867  1153.95979295 1153.81799764 1164.64551987 1164.88219585\n",
      " 1172.92302423 1164.37939631 1175.47982331 1170.03780833 1166.41029178\n",
      " 1163.04057846 1163.56637516 1157.79346402 1171.33040539 1156.3577733\n",
      " 1155.82673539 1173.44791826 1174.96866654 1180.11149146 1197.38311005\n",
      " 1186.60125029 1157.41581733 1157.11536988 1144.59962257 1129.49359897\n",
      " 1138.70364003 1153.84811744 1166.95522834 1171.92947997 1174.90913693\n",
      " 1171.10054704 1174.27370976 1180.98063236 1197.18858361 1211.74858698\n",
      " 1205.51586094 1198.46399438 1195.6913881  1193.75382376 1190.19026404\n",
      " 1183.79688459 1179.05373342 1176.55070156 1198.85273367 1219.03079275\n",
      " 1223.36159811 1239.69449354 1243.983775   1242.04496493 1239.48967743\n",
      " 1241.29053883 1262.4206146  1261.41337271 1271.34435062 1267.65000696\n",
      " 1276.42721803 1299.48614048 1312.58095241 1306.29664501 1319.02112185\n",
      " 1324.78920431 1323.70067093 1313.65330441 1318.96647116 1318.37205421\n",
      " 1248.57989671 1190.86593127 1211.3610474  1176.92013575 1119.87965805\n",
      " 1164.72918465 1177.35626578 1177.35283145 1198.12084594 1218.35932871\n",
      " 1222.99120696 1232.0426289  1242.98796156 1238.44983076 1259.28244801\n",
      " 1276.78584652 1246.03986134 1231.33419632 1193.9994886  1210.75427107\n",
      " 1222.42042596 1229.02919399 1245.14291547 1260.96120917 1295.77259157\n",
      " 1300.8767642  1270.26121757 1282.12871359 1283.74220714 1264.99869368\n",
      " 1226.89463698 1222.93936655 1221.17931839 1174.41174013 1144.83564855\n",
      " 1176.21620918 1121.01997355] 0.92669293980759 172\n"
     ]
    }
   ],
   "source": [
    "# clf = svm.SVR() -> 0.7853119484309191\n",
    "clf = LinearRegression() # -> 0.9769478805588366\n",
    "# we can specify n_jobs = for execution of no of jobs at a time (-1 for as many as possible, 1 is default)\n",
    "clf.fit(X_train, y_train)\n",
    "confidence = clf.score(X_test, y_test)\n",
    "forecast_set = clf.predict(X_lately)\n",
    "print(forecast_set, confidence, forecast_out)"
   ]
  },
  {
   "cell_type": "markdown",
   "id": "d75d0651-328d-411e-ae02-6d2509610e3c",
   "metadata": {},
   "source": [
    "### Next, we're going to add a new column to our dataframe, the forecast column, At first we initialize it with NaN."
   ]
  },
  {
   "cell_type": "code",
   "execution_count": 1,
   "id": "9377d0ac-4f2a-4815-9de5-65071192b0f0",
   "metadata": {
    "tags": []
   },
   "outputs": [
    {
     "ename": "NameError",
     "evalue": "name 'np' is not defined",
     "output_type": "error",
     "traceback": [
      "\u001b[1;31m---------------------------------------------------------------------------\u001b[0m",
      "\u001b[1;31mNameError\u001b[0m                                 Traceback (most recent call last)",
      "Cell \u001b[1;32mIn[1], line 10\u001b[0m\n\u001b[0;32m      6\u001b[0m mpld3\u001b[38;5;241m.\u001b[39menable_notebook()\n\u001b[0;32m      8\u001b[0m style\u001b[38;5;241m.\u001b[39muse(\u001b[38;5;124m'\u001b[39m\u001b[38;5;124mggplot\u001b[39m\u001b[38;5;124m'\u001b[39m)\n\u001b[1;32m---> 10\u001b[0m df[\u001b[38;5;124m'\u001b[39m\u001b[38;5;124mForecast\u001b[39m\u001b[38;5;124m'\u001b[39m] \u001b[38;5;241m=\u001b[39m \u001b[43mnp\u001b[49m\u001b[38;5;241m.\u001b[39mnan\n\u001b[0;32m     11\u001b[0m last_date \u001b[38;5;241m=\u001b[39m df\u001b[38;5;241m.\u001b[39miloc[\u001b[38;5;241m-\u001b[39m\u001b[38;5;241m1\u001b[39m]\u001b[38;5;241m.\u001b[39mname\n\u001b[0;32m     12\u001b[0m \u001b[38;5;66;03m# this gives the last date in the dataframe\u001b[39;00m\n",
      "\u001b[1;31mNameError\u001b[0m: name 'np' is not defined"
     ]
    }
   ],
   "source": [
    "import datetime\n",
    "import matplotlib.pyplot as plt\n",
    "from matplotlib import style\n",
    "%matplotlib inline\n",
    "import mpld3\n",
    "mpld3.enable_notebook()\n",
    "\n",
    "style.use('ggplot')\n",
    "\n",
    "df['Forecast'] = np.nan\n",
    "last_date = df.iloc[-1].name\n",
    "# this gives the last date in the dataframe\n",
    "last_unix = last_date.timestamp()\n",
    "one_day = 86400\n",
    "next_unix = last_unix + one_day\n",
    "\n",
    "for i in forecast_set:\n",
    "    next_date = datetime.datetime.fromtimestamp(next_unix)\n",
    "    next_unix += 86400\n",
    "    df.loc[next_date] = [np.nan for _ in range(len(df.columns)-1)] + [i]\n",
    "\n",
    "print(confidence)\n",
    "df['Adj. Close'].plot()\n",
    "df['Forecast'].plot()\n",
    "plt.legend(loc=4)\n",
    "plt.show()"
   ]
  },
  {
   "cell_type": "code",
   "execution_count": null,
   "id": "621e6681-cbaf-4f4d-bc82-8179323931c2",
   "metadata": {
    "tags": []
   },
   "outputs": [],
   "source": []
  },
  {
   "cell_type": "markdown",
   "id": "f922c454-a11c-4eac-bdd3-0cdc1ad72456",
   "metadata": {},
   "source": [
    "### you can change the future prediction price by changing the\n",
    "### \"forecast_out = int(math.ceil(x * len(df)))\", in our case we predicted 5% of the future data, so x = 0.05"
   ]
  },
  {
   "cell_type": "code",
   "execution_count": null,
   "id": "ab6c3555-91ef-460b-acd8-1ee3f78415a1",
   "metadata": {},
   "outputs": [],
   "source": []
  }
 ],
 "metadata": {
  "kernelspec": {
   "display_name": "Python 3 (ipykernel)",
   "language": "python",
   "name": "python3"
  },
  "language_info": {
   "codemirror_mode": {
    "name": "ipython",
    "version": 3
   },
   "file_extension": ".py",
   "mimetype": "text/x-python",
   "name": "python",
   "nbconvert_exporter": "python",
   "pygments_lexer": "ipython3",
   "version": "3.11.0"
  }
 },
 "nbformat": 4,
 "nbformat_minor": 5
}
